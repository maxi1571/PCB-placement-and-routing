{
 "cells": [
  {
   "cell_type": "code",
   "execution_count": null,
   "metadata": {},
   "outputs": [],
   "source": [
    "pip install simanneal"
   ]
  },
  {
   "cell_type": "code",
   "execution_count": 5,
   "metadata": {},
   "outputs": [],
   "source": [
    "import simanneal\n",
    "import main\n",
    "from simanneal import Annealer"
   ]
  },
  {
   "cell_type": "code",
   "execution_count": 7,
   "metadata": {},
   "outputs": [
    {
     "name": "stderr",
     "output_type": "stream",
     "text": [
      " Temperature        Energy    Accept   Improve     Elapsed   Remaining\n",
      "     0.67000         45.00    22.20%     0.00%     0:00:03     0:00:00 Temperature        Energy    Accept   Improve     Elapsed   Remaining\n",
      "     0.67000         45.00    23.19%     0.05%     0:00:08     0:00:00"
     ]
    },
    {
     "name": "stdout",
     "output_type": "stream",
     "text": [
      "45\n",
      "[1, 2, 5, 3, 4, 0]\n"
     ]
    }
   ],
   "source": [
    "\n",
    "from __future__ import print_function\n",
    "import math\n",
    "import main\n",
    "import random\n",
    "from collections import defaultdict\n",
    "from simanneal import Annealer\n",
    "\n",
    "\n",
    "\n",
    "class TravellingSalesmanProblem(Annealer):\n",
    "\n",
    "    \"\"\"Test annealer with a travelling salesman problem.\n",
    "    \"\"\"\n",
    "\n",
    "    # pass extra data (the distance matrix) into the constructor\n",
    "    def __init__(self,state,w,h):\n",
    "        self.h=h\n",
    "        self.w=w\n",
    "        self.state=state\n",
    "        super(TravellingSalesmanProblem, self).__init__(state)  # important!\n",
    "\n",
    "    def move(self):\n",
    "        \"\"\"Swaps two cities in the route.\"\"\"\n",
    "        # no efficiency gain, just proof of concept\n",
    "        # demonstrates returning the delta energy (optional)\n",
    "        initial_energy = self.energy()\n",
    "\n",
    "        a = random.randint(0, len(self.state) - 1)\n",
    "        b = random.randint(0, len(self.state) - 1)\n",
    "        self.state[a], self.state[b] = self.state[b], self.state[a]\n",
    "\n",
    "        return self.energy() - initial_energy\n",
    "\n",
    "    def energy(self):\n",
    "        \"\"\"Calculates the length of the route.\"\"\"\n",
    "        e=main.toArea(self.state,self.w,self.h)\n",
    "        return e\n",
    "\n",
    "\n",
    "if __name__ == '__main__':\n",
    "    \n",
    "    pseq=[[1,0,4,3,5,2],[2,1,5,0,3,4]]\n",
    "    w=[1,2,3,2,1,6]\n",
    "    h=[2,1,4,3,3,5]\n",
    "    state=[1,0,4,3,5,2]\n",
    "    tsp = TravellingSalesmanProblem(state, w,h)\n",
    "    tsp.set_schedule(tsp.auto(minutes=0.2))\n",
    "    # since our state is just a list, slice is the fastest way to copy\n",
    "    tsp.copy_strategy = \"slice\"\n",
    "    state, e = tsp.anneal()\n",
    "    print(e)\n",
    "    print(state)\n"
   ]
  },
  {
   "cell_type": "code",
   "execution_count": null,
   "metadata": {},
   "outputs": [],
   "source": []
  },
  {
   "cell_type": "code",
   "execution_count": null,
   "metadata": {},
   "outputs": [],
   "source": []
  }
 ],
 "metadata": {
  "kernelspec": {
   "display_name": "Python 3",
   "language": "python",
   "name": "python3"
  },
  "language_info": {
   "codemirror_mode": {
    "name": "ipython",
    "version": 3
   },
   "file_extension": ".py",
   "mimetype": "text/x-python",
   "name": "python",
   "nbconvert_exporter": "python",
   "pygments_lexer": "ipython3",
   "version": "3.7.6"
  }
 },
 "nbformat": 4,
 "nbformat_minor": 5
}
