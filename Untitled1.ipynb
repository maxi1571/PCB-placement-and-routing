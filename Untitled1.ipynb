{
 "cells": [
  {
   "cell_type": "code",
   "execution_count": 1,
   "metadata": {},
   "outputs": [],
   "source": [
    "import sys, random, math"
   ]
  },
  {
   "cell_type": "code",
   "execution_count": null,
   "metadata": {},
   "outputs": [],
   "source": [
    "class Spot:\n",
    "    def __init__(self, i, j):\n",
    "        self.x, self.y = i, j\n",
    "        self.f, self.g, self.h = 0, 0, 0\n",
    "        self.neighbors = []\n",
    "        self.prev = None\n",
    "        self.wall = False\n",
    "\n",
    "    def add_neighbors(self, grid):\n",
    "        if self.x < cols - 1:\n",
    "            self.neighbors.append(grid[self.x+1][self.y])\n",
    "        if self.x > 0:\n",
    "            self.neighbors.append(grid[self.x-1][self.y])\n",
    "        if self.y < rows - 1:\n",
    "            self.neighbors.append(grid[self.x][self.y+1])\n",
    "        if self.y > 0:\n",
    "            self.neighbors.append(grid[self.x][self.y-1])"
   ]
  }
 ],
 "metadata": {
  "kernelspec": {
   "display_name": "Python 3",
   "language": "python",
   "name": "python3"
  },
  "language_info": {
   "codemirror_mode": {
    "name": "ipython",
    "version": 3
   },
   "file_extension": ".py",
   "mimetype": "text/x-python",
   "name": "python",
   "nbconvert_exporter": "python",
   "pygments_lexer": "ipython3",
   "version": "3.7.6"
  }
 },
 "nbformat": 4,
 "nbformat_minor": 4
}
