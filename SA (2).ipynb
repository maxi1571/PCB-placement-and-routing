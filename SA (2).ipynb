{
 "cells": [
  {
   "cell_type": "code",
   "execution_count": 4,
   "metadata": {},
   "outputs": [],
   "source": [
    "import cProfile"
   ]
  },
  {
   "cell_type": "code",
   "execution_count": null,
   "metadata": {},
   "outputs": [],
   "source": [
    "import sys, random, math"
   ]
  },
  {
   "cell_type": "code",
   "execution_count": 1,
   "metadata": {},
   "outputs": [
    {
     "data": {
      "image/png": "[encoded data removed]",
      "text/plain": [
       "<Figure size 432x288 with 1 Axes>"
      ]
     },
     "metadata": {
      "needs_background": "light"
     },
     "output_type": "display_data"
    },
    {
     "name": "stderr",
     "output_type": "stream",
     "text": [
      " Temperature        Energy    Accept   Improve     Elapsed   Remaining\n",
      "     4.90000       7308.00     9.00%     0.00%     0:01:33    -1:59:33 Temperature        Energy    Accept   Improve     Elapsed   Remaining\n",
      "     4.90000       7917.00    10.00%     0.00%     0:00:08     0:00:00"
     ]
    },
    {
     "data": {
      "image/png": "[encoded data removed]",
      "text/plain": [
       "<Figure size 432x288 with 1 Axes>"
      ]
     },
     "metadata": {
      "needs_background": "light"
     },
     "output_type": "display_data"
    }
   ],
   "source": [
    "from __future__ import print_function\n",
    "import math\n",
    "import main\n",
    "import random\n",
    "from collections import defaultdict\n",
    "from simanneal import Annealer\n",
    "from itertools import permutations\n",
    "\n",
    "class TravellingSalesmanProblem(Annealer):\n",
    "    # pass extra data (the distance matrix) into the constructor\n",
    "    def __init__(self,state,pseq1,w,h):\n",
    "        self.pseq1=pseq1\n",
    "        self.h=h\n",
    "        self.w=w\n",
    "        self.state=state\n",
    "        super(TravellingSalesmanProblem, self).__init__(state)  # important!\n",
    "\n",
    "    def move(self):\n",
    "        initial_energy = self.energy()\n",
    "        a = random.randint(0, len(self.state) - 1)\n",
    "        b = random.randint(0, len(self.state) - 1)\n",
    "        if a!=b:\n",
    "            self.state[a], self.state[b] = self.state[b], self.state[a]\n",
    "        return self.energy() - initial_energy\n",
    "    def energy(self):\n",
    "        \"\"\"Calculates the length of the route.\"\"\"\n",
    "        e,x,y= main.toArea(self.state,self.pseq1,self.w,self.h)\n",
    "        return e\n",
    "\n",
    "nm=40\n",
    "p= [[i for i in range(1,nm+1)],[i for i in range(1,nm+1)]]\n",
    "random.shuffle(p[0])\n",
    "random.shuffle(p[1])\n",
    "\n",
    "pseq=[p[0],p[1]]\n",
    "w=[]\n",
    "h=[]\n",
    "#w=[10,20,15,10,20]\n",
    "#h=[20,15,10,5,20]\n",
    "for i in range(nm):\n",
    "    w.append(random.randint(5,15)+3)\n",
    "    h.append(random.randint(5,15)+3)\n",
    "\n",
    "#w=[10,20,15,10,20,15,10,5,]\n",
    "#h=[20,15,10,5,20,10,5,10]\n",
    "state=pseq[0]\n",
    "pseq1=pseq[1]\n",
    "\n",
    "\n",
    "area, x, y = main.toArea(state,pseq1,w,h)\n",
    "\n",
    "import matplotlib.pyplot as plt\n",
    "from matplotlib.patches import Rectangle\n",
    "\n",
    "fig, ax = plt.subplots()\n",
    "\n",
    "ax.plot([0,70],[70,70],color='white')\n",
    "#color = ['green', 'blue', 'orange', 'red', 'yellow','brown', 'gray','cyan','pink', 'purple']\n",
    "#add rectangle to plot\n",
    "count = 0\n",
    "for i in range(1,len(w)+1):\n",
    "    ax.add_patch(Rectangle((x[count],y[count]), w[count]-2, h[count]-2, facecolor='green', edgecolor='black'))\n",
    "    count +=1\n",
    "#display plot\n",
    "plt.axis(\"scaled\")\n",
    "plt.show()\n",
    "tsp = TravellingSalesmanProblem(state,pseq1, w,h)\n",
    "tsp.set_schedule(tsp.auto(minutes=0.2))\n",
    "# since our state is just a list, slice is the fastest way to copy\n",
    "tsp.copy_strategy = \"slice\"\n",
    "state, e = tsp.anneal()\n",
    "\n",
    "pseq1 = tsp.pseq1\n",
    "area, x, y = main.toArea(state,pseq1,w,h)\n",
    "import matplotlib.pyplot as plt\n",
    "from matplotlib.patches import Rectangle\n",
    "\n",
    "fig, ax = plt.subplots()\n",
    "\n",
    "ax.plot([0,70],[70,70],color='white')\n",
    "#color = ['green', 'blue', 'orange', 'red', 'yellow','brown', 'gray','cyan','pink', 'purple']\n",
    "#add rectangle to plot\n",
    "count = 0\n",
    "for i in range(1,len(w)+1):\n",
    "    ax.add_patch(Rectangle((x[count],y[count]), w[count]-2, h[count]-2, facecolor='green', edgecolor='black'))\n",
    "    count +=1\n",
    "#display plot\n",
    "plt.axis(\"scaled\")\n",
    "plt.show()"
   ]
  },
  {
   "cell_type": "markdown",
   "metadata": {},
   "source": [
    "#### pseq1 = tsp.pseq1\n",
    "area, x, y = main.toArea(state,pseq1,w,h)\n",
    "import matplotlib.pyplot as plt\n",
    "from matplotlib.patches import Rectangle\n",
    "\n",
    "fig, ax = plt.subplots()\n",
    "\n",
    "ax.plot([0,20],[20,20],color='white')\n",
    "color = ['green', 'blue', 'orange', 'red', 'yellow','brown', 'gray','cyan','pink', 'purple']\n",
    "#add rectangle to plot\n",
    "count = 0\n",
    "for i in color:\n",
    "    ax.add_patch(Rectangle((x[count],y[count]), w[count], h[count], facecolor=i, edgecolor='black'))\n",
    "    count +=1\n",
    "#display plot\n",
    "plt.axis(\"scaled\")\n",
    "plt.show()"
   ]
  },
  {
   "cell_type": "code",
   "execution_count": 2,
   "metadata": {},
   "outputs": [
    {
     "name": "stdout",
     "output_type": "stream",
     "text": [
      "[16, 15, 11, 16, 15, 13, 11, 9, 8, 12, 14, 10, 12, 8, 8, 9, 16, 9, 16, 13, 14, 18, 15, 16, 8, 15, 18, 9, 13, 15, 17, 10, 15, 10, 12, 14, 18, 14, 8, 15] [8, 10, 14, 9, 13, 10, 13, 13, 13, 13, 18, 14, 8, 13, 15, 15, 10, 11, 12, 12, 9, 18, 11, 14, 11, 10, 15, 8, 15, 17, 17, 13, 12, 18, 15, 8, 16, 10, 8, 18]\n"
     ]
    }
   ],
   "source": [
    "print(w,h)"
   ]
  },
  {
   "cell_type": "code",
   "execution_count": 34,
   "metadata": {},
   "outputs": [
    {
     "name": "stdout",
     "output_type": "stream",
     "text": [
      "[78, 70, 37, 38, 30, 27, 69, 74, 10, 45, 0, 56, 30, 0, 45, 10, 0, 0, 30, 58, 54, 0, 44, 38, 30, 56, 13, 55, 69, 15, 71, 58, 13, 54, 54, 28, 74, 0, 0, 71] [77, 48, 20, 63, 53, 18, 67, 37, 0, 37, 71, 11, 63, 38, 45, 14, 53, 79, 40, 48, 67, 25, 0, 76, 31, 0, 58, 76, 77, 25, 17, 37, 41, 20, 56, 0, 0, 0, 13, 27]\n"
     ]
    }
   ],
   "source": [
    "print(x,y)"
   ]
  },
  {
   "cell_type": "code",
   "execution_count": 13,
   "metadata": {},
   "outputs": [],
   "source": [
    "x,y=[0, 20, 0, 30, 10, 30, 0, 15],[15, 0, 5, 25, 15, 15, 0, 0]\n",
    "\n",
    "w,h=[10, 20, 15, 10, 20, 15, 10, 5], [20, 15, 10, 5, 20, 10, 5, 10]\n"
   ]
  },
  {
   "cell_type": "code",
   "execution_count": 37,
   "metadata": {},
   "outputs": [
    {
     "data": {
      "text/plain": [
       "95"
      ]
     },
     "execution_count": 37,
     "metadata": {},
     "output_type": "execute_result"
    }
   ],
   "source": [
    "j=[]\n",
    "count=0\n",
    "for i in h:\n",
    "    j.append(y[count]+h[count]+6)\n",
    "    count+=1\n",
    "max(j)"
   ]
  },
  {
   "cell_type": "code",
   "execution_count": 15,
   "metadata": {},
   "outputs": [
    {
     "data": {
      "text/plain": [
       "51"
      ]
     },
     "execution_count": 15,
     "metadata": {},
     "output_type": "execute_result"
    }
   ],
   "source": [
    "max(j)"
   ]
  },
  {
   "cell_type": "code",
   "execution_count": 8,
   "metadata": {},
   "outputs": [],
   "source": [
    "import sys, random, math"
   ]
  },
  {
   "cell_type": "code",
   "execution_count": 9,
   "metadata": {},
   "outputs": [],
   "source": [
    "class Spot:\n",
    "    def __init__(self, i, j):\n",
    "        self.x, self.y = i, j\n",
    "        self.f, self.g, self.h = 0, 0, 0\n",
    "        self.neighbors = []\n",
    "        self.prev = None\n",
    "        self.wall = False\n",
    "\n",
    "    def add_neighbors(self, grid):\n",
    "        if self.x < cols - 1:\n",
    "            self.neighbors.append(grid[self.x+1][self.y])\n",
    "        if self.x > 0:\n",
    "            self.neighbors.append(grid[self.x-1][self.y])\n",
    "        if self.y < rows - 1:\n",
    "            self.neighbors.append(grid[self.x][self.y+1])\n",
    "        if self.y > 0:\n",
    "            self.neighbors.append(grid[self.x][self.y-1])"
   ]
  },
  {
   "cell_type": "code",
   "execution_count": 10,
   "metadata": {},
   "outputs": [],
   "source": [
    "def heuristics(a, b):\n",
    "    return math.sqrt((a.x - b.x)**2 + abs(a.y - b.y)**2)"
   ]
  },
  {
   "cell_type": "code",
   "execution_count": 11,
   "metadata": {},
   "outputs": [],
   "source": [
    "def boxes(grid,x,y,w,h):\n",
    "    newx=x+w-1\n",
    "    newy=y+h-1\n",
    "    grid[x][y].wall=True\n",
    "    for i in range(1,w):\n",
    "        grid[x+i][y].wall=True\n",
    "    for i in range(1,h):\n",
    "        grid[x][y+i].wall=True\n",
    "    for i in range(1,w-1):\n",
    "        grid[newx-i][newy].wall=True\n",
    "    for i in range(1,h):\n",
    "        grid[newx][y+i].wall=True\n"
   ]
  },
  {
   "cell_type": "code",
   "execution_count": 12,
   "metadata": {},
   "outputs": [],
   "source": [
    "def astar(grid,cols, rows, openSet, closeSet, path, start, end):\n",
    "    flag = False\n",
    "    noflag = True\n",
    "    startflag = False\n",
    "    moregrid=False\n",
    "    while True:\n",
    "        startflag=True\n",
    "        if startflag:\n",
    "            if len(openSet) > 0:\n",
    "                winner = 0\n",
    "                for i in range(len(openSet)):\n",
    "                    if openSet[i].f < openSet[winner].f:\n",
    "                        winner = i\n",
    "\n",
    "                current = openSet[winner]\n",
    "\n",
    "                if current == end:\n",
    "                    temp = current\n",
    "                    while temp.prev:# prev is a parent\n",
    "                        path.append(temp.prev)\n",
    "                        temp = temp.prev\n",
    "                    if not flag:\n",
    "                        flag = True\n",
    "                        print(\"Done\")\n",
    "                        path.append(end)\n",
    "                    elif flag:\n",
    "                        continue\n",
    "\n",
    "                if flag == False:\n",
    "                    openSet.remove(current)\n",
    "                    closeSet.append(current)\n",
    "\n",
    "                    for neighbor in current.neighbors:\n",
    "                        if neighbor in closeSet or neighbor.wall:\n",
    "                            continue\n",
    "                        tempG = current.g + 1\n",
    "\n",
    "                        newPath = False\n",
    "                        if neighbor in openSet:\n",
    "                            if tempG < neighbor.g:\n",
    "                                neighbor.g = tempG\n",
    "                                newPath = True\n",
    "                        else:\n",
    "                            neighbor.g = tempG\n",
    "                            newPath = True\n",
    "                            openSet.append(neighbor)\n",
    "\n",
    "                        if newPath:\n",
    "                            neighbor.h = heuristics(neighbor, end)\n",
    "                            neighbor.f = neighbor.g + neighbor.h\n",
    "                            neighbor.prev = current\n",
    "\n",
    "            else:\n",
    "                if noflag:\n",
    "                    moregrid=True\n",
    "                    print(\"Adding layers......this might take a while\")\n",
    "\n",
    "\n",
    "\n",
    "        if len(path)>0:\n",
    "            #print('this is path',len(path))\n",
    "            pathes.append(path)\n",
    "\n",
    "\n",
    "        for i in range(cols):\n",
    "            for j in range(rows):\n",
    "                spot = grid[j][i]\n",
    "                if spot in path:\n",
    "                    spot.wall = True\n",
    "        if flag:\n",
    "            break\n",
    "            \n",
    "    return grid, moregrid\n"
   ]
  },
  {
   "cell_type": "code",
   "execution_count": 13,
   "metadata": {},
   "outputs": [],
   "source": [
    "def fullgrid(grid,grids,conx_start,cony_start,conx_end, cony_end,counter, cols, rows):\n",
    "    openSet = []\n",
    "\n",
    "    for k in range(1,len(conx_start)+1):\n",
    "\n",
    "        start=grid[conx_start[counter]][cony_start[counter]]\n",
    "        start.wall = False\n",
    "        end=grid[conx_end[counter]][cony_end[counter]]\n",
    "        end.wall = False\n",
    "\n",
    "        if len(openSet)>1:\n",
    "            openSet = []\n",
    "            closeSet = []\n",
    "            path = []\n",
    "        openSet=[]\n",
    "        closeSet=[]\n",
    "        path = []\n",
    "        openSet.append(start)\n",
    "        grid, moregrid=astar(grid,cols, rows, openSet, closeSet, path, start, end)\n",
    "        grids.append(grid)\n",
    "        if moregrid:\n",
    "            break\n",
    "        counter+=1\n",
    "    if moregrid:\n",
    "        size = (width, height) = 500, 500\n",
    "        cols, rows = 100, 100\n",
    "\n",
    "        grid = []\n",
    "        openSet, closeSet = [], []\n",
    "        path = []\n",
    "        w = width//cols\n",
    "        h = height//rows\n",
    "        for i in range(cols):\n",
    "            arr = []\n",
    "            for j in range(rows):\n",
    "                arr.append(Spot(i, j))\n",
    "            grid.append(arr)\n",
    "\n",
    "        for i in range(cols):\n",
    "            for j in range(rows):\n",
    "                grid[i][j].add_neighbors(grid)\n",
    "        fullgrid(grid,grids,conx_start,cony_start,conx_end, cony_end,counter, cols, rows)\n",
    "\n",
    "    return grids"
   ]
  },
  {
   "cell_type": "code",
   "execution_count": 17,
   "metadata": {},
   "outputs": [
    {
     "name": "stdout",
     "output_type": "stream",
     "text": [
      "Done\n",
      "Done\n",
      "Done\n",
      "Done\n",
      "Done\n",
      "Done\n",
      "Done\n",
      "Done\n"
     ]
    }
   ],
   "source": [
    "size = (width, height) = 500, 500\n",
    "cols, rows = 100, 100\n",
    "\n",
    "grid = []\n",
    "openSet, closeSet = [], []\n",
    "path = []\n",
    "\n",
    "w = width//cols\n",
    "h = height//rows\n",
    "\n",
    "for i in range(cols):\n",
    "    arr = []\n",
    "    for j in range(rows):\n",
    "        arr.append(Spot(i, j))\n",
    "    grid.append(arr)\n",
    "\n",
    "for i in range(cols):\n",
    "    for j in range(rows):\n",
    "        grid[i][j].add_neighbors(grid)\n",
    "pathes=[]\n",
    "count = 0\n",
    "width, hight = [12, 18, 17, 16, 14, 10, 15, 16, 18, 11, 13, 15, 8, 13, 13, 17, 8, 11, 15, 9, 12, 15, 12, 17, 15, 18, 17, 14, 9, 12, 14, 16, 17, 17, 16, 16, 16, 10, 8, 18],[10, 13, 11, 13, 10, 11, 10, 11, 14, 8, 8, 9, 17, 15, 9, 11, 18, 10, 13, 8, 9, 13, 17, 12, 9, 11, 18, 13, 12, 16, 10, 11, 17, 17, 11, 18, 17, 13, 8, 8]\n",
    "#width = [10, 20, 15, 10, 20,15,10,5]\n",
    "#hight = [20, 15, 10, 5, 20,10,5,10]\n",
    "xcord,ycord=[78, 70, 37, 38, 30, 27, 69, 74, 10, 45, 0, 56, 30, 0, 45, 10, 0, 0, 30, 58, 54, 0, 44, 38, 30, 56, 13, 55, 69, 15, 71, 58, 13, 54, 54, 28, 74, 0, 0, 71],[77, 48, 20, 63, 53, 18, 67, 37, 0, 37, 71, 11, 63, 38, 45, 14, 53, 79, 40, 48, 67, 25, 0, 76, 31, 0, 58, 76, 77, 25, 17, 37, 41, 20, 56, 0, 0, 0, 13, 27]\n",
    "\n",
    "#xcord = [0, 20, 0, 30, 10, 30, 0, 15]\n",
    "#ycord = [15, 0, 5, 25, 15, 15, 0, 0]\n",
    "conx_start=[96,96,96,96,96,96,98,98]\n",
    "cony_start=[20,30,40,50,70,73,75,78]\n",
    "conx_end=[4,4,4,4,4,4,4,4]\n",
    "cony_end=[9,11,13,15,17,19,30,50]\n",
    "for i in range(len(conx_start)):\n",
    "    grid[conx_start[i]][cony_start[i]].wall = True\n",
    "    grid[conx_end[i]][cony_end[i]].wall = True\n",
    "\n",
    "for i in range(1,len(width)+1):\n",
    "    boxes(grid,xcord[count]+10, ycord[count]+10, width[count]-3, hight[count]-3)\n",
    "    count+=1\n",
    "#for i in range(0,100):\n",
    "#    grid[10][0+i].wall=True\n",
    "\n",
    "grids=[]\n",
    "counter=0\n",
    "Newgrids = fullgrid(grid,grids,conx_start,cony_start,conx_end, cony_end,counter, cols, rows)"
   ]
  },
  {
   "cell_type": "code",
   "execution_count": 15,
   "metadata": {},
   "outputs": [],
   "source": [
    "xpath=[]\n",
    "ypath=[]\n",
    "count = 0\n",
    "for i in pathes:\n",
    "    cordx=[]\n",
    "    cordy=[]\n",
    "    end = len(pathes[count])\n",
    "    counter=1\n",
    "    for j in i:\n",
    "        if end==counter:\n",
    "            break\n",
    "        cordx.append(j.x)\n",
    "        cordy.append(j.y)\n",
    "        counter+=1\n",
    "    xpath.append(cordx)\n",
    "    ypath.append(cordy)\n",
    "    count+=1"
   ]
  },
  {
   "cell_type": "code",
   "execution_count": 16,
   "metadata": {},
   "outputs": [
    {
     "data": {
      "image/png": "[encoded data removed]",
      "text/plain": [
       "<Figure size 432x288 with 1 Axes>"
      ]
     },
     "metadata": {
      "needs_background": "light"
     },
     "output_type": "display_data"
    }
   ],
   "source": [
    "import matplotlib.pyplot as plt\n",
    "from matplotlib.patches import Rectangle\n",
    "#x,y=[0, 20, 0, 30, 10, 30, 0, 15],[15, 0, 5, 25, 15, 15, 0, 0]\n",
    "\n",
    "#w,h=[10, 20, 15, 10, 20, 15, 10, 5], [20, 15, 10, 5, 20, 10, 5, 10]\n",
    "\n",
    "\n",
    "fig, ax = plt.subplots()\n",
    "\n",
    "ax.plot([0,50],[50,50],color='white')\n",
    "#color = ['green', 'blue', 'orange', 'red', 'yellow','brown', 'gray','cyan','pink', 'purple']\n",
    "#add rectangle to plot\n",
    "count = 0\n",
    "for i in range(len(xpath)):\n",
    "    plt.plot(xpath[i],ypath[i])\n",
    "\n",
    "for i in range(1,len(width)+1):\n",
    "    ax.add_patch(Rectangle((xcord[count]+10,ycord[count]+10), width[count]-3.5, hight[count]-3.5, facecolor='green', edgecolor='black'))\n",
    "    count +=1\n",
    "#display plot\n",
    "plt.axis(\"scaled\")\n",
    "plt.show()"
   ]
  },
  {
   "cell_type": "code",
   "execution_count": null,
   "metadata": {},
   "outputs": [],
   "source": []
  }
 ],
 "metadata": {
  "kernelspec": {
   "display_name": "Python 3",
   "language": "python",
   "name": "python3"
  },
  "language_info": {
   "codemirror_mode": {
    "name": "ipython",
    "version": 3
   },
   "file_extension": ".py",
   "mimetype": "text/x-python",
   "name": "python",
   "nbconvert_exporter": "python",
   "pygments_lexer": "ipython3",
   "version": "3.7.6"
  }
 },
 "nbformat": 4,
 "nbformat_minor": 5
}
