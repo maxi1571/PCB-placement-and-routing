{
 "cells": [
  {
   "cell_type": "code",
   "execution_count": null,
   "metadata": {},
   "outputs": [],
   "source": [
    "def fullgrid(grid,grids,conx_start,cony_start,conx_end, cony_end,counter, cols, rows):\n",
    "    openSet = []\n",
    "    \n",
    "    for k in range(counter,len(conx_start)+1):\n",
    "        moregrid=False\n",
    "        start=grid[conx_start[counter]][cony_start[counter]]\n",
    "        start.wall = False\n",
    "        end=grid[conx_end[counter]][cony_end[counter]]\n",
    "        end.wall = False\n",
    "\n",
    "        if len(openSet)>1:\n",
    "            openSet = []\n",
    "            closeSet = []\n",
    "            path = []\n",
    "        openSet=[]\n",
    "        closeSet=[]\n",
    "        path = []\n",
    "        openSet.append(start)\n",
    "        grid, moregrid=astar(grid,cols, rows, openSet, closeSet, path, start, end)\n",
    "        grids.append(grid)\n",
    "        if moregrid:\n",
    "            break\n",
    "        counter+=1\n",
    "    return grids"
   ]
  },
  {
   "cell_type": "code",
   "execution_count": 4,
   "metadata": {},
   "outputs": [],
   "source": [
    "def addlayer(width, height, cols, rows,counter):\n",
    "        size = (width, height) = 500, 500\n",
    "        cols, rows = 100, 100\n",
    "        moregrid=False\n",
    "        grid = []\n",
    "        openSet, closeSet = [],[]\n",
    "        path = []\n",
    "        w = width//cols\n",
    "        h = height//rows\n",
    "        for i in range(cols):\n",
    "            arr = []\n",
    "            for j in range(rows):\n",
    "                arr.append(Spot(i, j))\n",
    "            grid.append(arr)\n",
    "\n",
    "        for i in range(cols):\n",
    "            for j in range(rows):\n",
    "                grid[i][j].add_neighbors(grid)\n",
    "        start=grid[conx_start[counter]][cony_start[counter]]\n",
    "        start.wall = False\n",
    "        end=grid[conx_end[counter]][cony_end[counter]]\n",
    "        end.wall = False\n",
    "        print(\"it got here\")\n",
    "        fullgrid(grid,grids,conx_start,cony_start,conx_end, cony_end,counter, cols, rows)\n",
    "        print(\"it pass fullgrid\")\n",
    "        return grids\n"
   ]
  },
  {
   "cell_type": "code",
   "execution_count": null,
   "metadata": {},
   "outputs": [],
   "source": []
  },
  {
   "cell_type": "code",
   "execution_count": null,
   "metadata": {},
   "outputs": [],
   "source": []
  }
 ],
 "metadata": {
  "kernelspec": {
   "display_name": "Python 3",
   "language": "python",
   "name": "python3"
  },
  "language_info": {
   "codemirror_mode": {
    "name": "ipython",
    "version": 3
   },
   "file_extension": ".py",
   "mimetype": "text/x-python",
   "name": "python",
   "nbconvert_exporter": "python",
   "pygments_lexer": "ipython3",
   "version": "3.7.6"
  }
 },
 "nbformat": 4,
 "nbformat_minor": 4
}
